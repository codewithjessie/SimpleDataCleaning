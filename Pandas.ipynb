{
 "cells": [
  {
   "cell_type": "code",
   "execution_count": 2,
   "id": "b9270466",
   "metadata": {},
   "outputs": [
    {
     "name": "stdout",
     "output_type": "stream",
     "text": [
      "Intel MKL WARNING: Support of Intel(R) Streaming SIMD Extensions 4.2 (Intel(R) SSE4.2) enabled only processors has been deprecated. Intel oneAPI Math Kernel Library 2025.0 will require Intel(R) Advanced Vector Extensions (Intel(R) AVX) instructions.\n",
      "Intel MKL WARNING: Support of Intel(R) Streaming SIMD Extensions 4.2 (Intel(R) SSE4.2) enabled only processors has been deprecated. Intel oneAPI Math Kernel Library 2025.0 will require Intel(R) Advanced Vector Extensions (Intel(R) AVX) instructions.\n"
     ]
    }
   ],
   "source": [
    "import pandas as pd\n",
    "import numpy as np\n",
    "import random as rand "
   ]
  },
  {
   "cell_type": "markdown",
   "id": "8450cf6d",
   "metadata": {},
   "source": [
    "## 1. The Easy Way"
   ]
  },
  {
   "cell_type": "markdown",
   "id": "fcdd6098",
   "metadata": {},
   "source": [
    "In the following we will be generating our own data within the notebook. Please feel free to try these methods out with any data you may have locally saved in a csv/txt file. "
   ]
  },
  {
   "cell_type": "code",
   "execution_count": 8,
   "id": "f47dc15a",
   "metadata": {},
   "outputs": [
    {
     "data": {
      "text/html": [
       "<div>\n",
       "<style scoped>\n",
       "    .dataframe tbody tr th:only-of-type {\n",
       "        vertical-align: middle;\n",
       "    }\n",
       "\n",
       "    .dataframe tbody tr th {\n",
       "        vertical-align: top;\n",
       "    }\n",
       "\n",
       "    .dataframe thead th {\n",
       "        text-align: right;\n",
       "    }\n",
       "</style>\n",
       "<table border=\"1\" class=\"dataframe\">\n",
       "  <thead>\n",
       "    <tr style=\"text-align: right;\">\n",
       "      <th></th>\n",
       "      <th>employee_name</th>\n",
       "      <th>employer</th>\n",
       "      <th>salary</th>\n",
       "      <th>bonus</th>\n",
       "    </tr>\n",
       "  </thead>\n",
       "  <tbody>\n",
       "    <tr>\n",
       "      <th>0</th>\n",
       "      <td>spongebob</td>\n",
       "      <td>krusty krab</td>\n",
       "      <td>30000</td>\n",
       "      <td>5000</td>\n",
       "    </tr>\n",
       "    <tr>\n",
       "      <th>1</th>\n",
       "      <td>patrick</td>\n",
       "      <td>unemployed</td>\n",
       "      <td>0</td>\n",
       "      <td>0</td>\n",
       "    </tr>\n",
       "    <tr>\n",
       "      <th>2</th>\n",
       "      <td>squidward</td>\n",
       "      <td>krusty krab</td>\n",
       "      <td>40000</td>\n",
       "      <td>2500</td>\n",
       "    </tr>\n",
       "    <tr>\n",
       "      <th>3</th>\n",
       "      <td>mr krabs</td>\n",
       "      <td>krusty krab</td>\n",
       "      <td>100000</td>\n",
       "      <td>10000</td>\n",
       "    </tr>\n",
       "    <tr>\n",
       "      <th>4</th>\n",
       "      <td>sandy</td>\n",
       "      <td>self employed</td>\n",
       "      <td>70000</td>\n",
       "      <td>8500</td>\n",
       "    </tr>\n",
       "    <tr>\n",
       "      <th>5</th>\n",
       "      <td>plankton</td>\n",
       "      <td>the chum bucket</td>\n",
       "      <td>80000</td>\n",
       "      <td>10000</td>\n",
       "    </tr>\n",
       "  </tbody>\n",
       "</table>\n",
       "</div>"
      ],
      "text/plain": [
       "  employee_name         employer  salary  bonus\n",
       "0     spongebob      krusty krab   30000   5000\n",
       "1       patrick       unemployed       0      0\n",
       "2     squidward      krusty krab   40000   2500\n",
       "3      mr krabs      krusty krab  100000  10000\n",
       "4         sandy    self employed   70000   8500\n",
       "5      plankton  the chum bucket   80000  10000"
      ]
     },
     "execution_count": 8,
     "metadata": {},
     "output_type": "execute_result"
    }
   ],
   "source": [
    "df_dict = {'employee_name': ['spongebob', 'patrick', 'squidward', 'mr krabs', 'sandy', 'plankton'],\n",
    "        'employer': ['krusty krab', 'unemployed', 'krusty krab', 'krusty krab', 'self employed', 'the chum bucket'],\n",
    "        'salary': [30000, 0, 40000, 100000, 70000, 80000],\n",
    "        'bonus': [5000, 0, 2500, 10000, 8500, 10000]\n",
    "       }\n",
    "\n",
    "df_1 = pd.DataFrame(df_dict)\n",
    "df_1"
   ]
  },
  {
   "cell_type": "markdown",
   "id": "cacc803c",
   "metadata": {},
   "source": [
    "We can simply get a total compensation by adding the salary and bonus together using the following."
   ]
  },
  {
   "cell_type": "code",
   "execution_count": 9,
   "id": "d36736fb",
   "metadata": {},
   "outputs": [
    {
     "data": {
      "text/html": [
       "<div>\n",
       "<style scoped>\n",
       "    .dataframe tbody tr th:only-of-type {\n",
       "        vertical-align: middle;\n",
       "    }\n",
       "\n",
       "    .dataframe tbody tr th {\n",
       "        vertical-align: top;\n",
       "    }\n",
       "\n",
       "    .dataframe thead th {\n",
       "        text-align: right;\n",
       "    }\n",
       "</style>\n",
       "<table border=\"1\" class=\"dataframe\">\n",
       "  <thead>\n",
       "    <tr style=\"text-align: right;\">\n",
       "      <th></th>\n",
       "      <th>employee_name</th>\n",
       "      <th>employer</th>\n",
       "      <th>salary</th>\n",
       "      <th>bonus</th>\n",
       "      <th>total_comp</th>\n",
       "    </tr>\n",
       "  </thead>\n",
       "  <tbody>\n",
       "    <tr>\n",
       "      <th>0</th>\n",
       "      <td>spongebob</td>\n",
       "      <td>krusty krab</td>\n",
       "      <td>30000</td>\n",
       "      <td>5000</td>\n",
       "      <td>35000</td>\n",
       "    </tr>\n",
       "    <tr>\n",
       "      <th>1</th>\n",
       "      <td>patrick</td>\n",
       "      <td>unemployed</td>\n",
       "      <td>0</td>\n",
       "      <td>0</td>\n",
       "      <td>0</td>\n",
       "    </tr>\n",
       "    <tr>\n",
       "      <th>2</th>\n",
       "      <td>squidward</td>\n",
       "      <td>krusty krab</td>\n",
       "      <td>40000</td>\n",
       "      <td>2500</td>\n",
       "      <td>42500</td>\n",
       "    </tr>\n",
       "    <tr>\n",
       "      <th>3</th>\n",
       "      <td>mr krabs</td>\n",
       "      <td>krusty krab</td>\n",
       "      <td>100000</td>\n",
       "      <td>10000</td>\n",
       "      <td>110000</td>\n",
       "    </tr>\n",
       "    <tr>\n",
       "      <th>4</th>\n",
       "      <td>sandy</td>\n",
       "      <td>self employed</td>\n",
       "      <td>70000</td>\n",
       "      <td>8500</td>\n",
       "      <td>78500</td>\n",
       "    </tr>\n",
       "    <tr>\n",
       "      <th>5</th>\n",
       "      <td>plankton</td>\n",
       "      <td>the chum bucket</td>\n",
       "      <td>80000</td>\n",
       "      <td>10000</td>\n",
       "      <td>90000</td>\n",
       "    </tr>\n",
       "  </tbody>\n",
       "</table>\n",
       "</div>"
      ],
      "text/plain": [
       "  employee_name         employer  salary  bonus  total_comp\n",
       "0     spongebob      krusty krab   30000   5000       35000\n",
       "1       patrick       unemployed       0      0           0\n",
       "2     squidward      krusty krab   40000   2500       42500\n",
       "3      mr krabs      krusty krab  100000  10000      110000\n",
       "4         sandy    self employed   70000   8500       78500\n",
       "5      plankton  the chum bucket   80000  10000       90000"
      ]
     },
     "execution_count": 9,
     "metadata": {},
     "output_type": "execute_result"
    }
   ],
   "source": [
    "df_1['total_comp'] = df_1['salary'] + df_1['bonus']\n",
    "df_1"
   ]
  },
  {
   "cell_type": "markdown",
   "id": "e29b8c09",
   "metadata": {},
   "source": [
    "Now we want to count how many people work for each employer. We can create a count variable very easily using the following code."
   ]
  },
  {
   "cell_type": "code",
   "execution_count": 10,
   "id": "660b5726",
   "metadata": {},
   "outputs": [],
   "source": [
    "df_1['count'] = 1"
   ]
  },
  {
   "cell_type": "code",
   "execution_count": 11,
   "id": "97b0b7a9",
   "metadata": {},
   "outputs": [
    {
     "data": {
      "text/html": [
       "<div>\n",
       "<style scoped>\n",
       "    .dataframe tbody tr th:only-of-type {\n",
       "        vertical-align: middle;\n",
       "    }\n",
       "\n",
       "    .dataframe tbody tr th {\n",
       "        vertical-align: top;\n",
       "    }\n",
       "\n",
       "    .dataframe thead th {\n",
       "        text-align: right;\n",
       "    }\n",
       "</style>\n",
       "<table border=\"1\" class=\"dataframe\">\n",
       "  <thead>\n",
       "    <tr style=\"text-align: right;\">\n",
       "      <th></th>\n",
       "      <th>count</th>\n",
       "    </tr>\n",
       "    <tr>\n",
       "      <th>employer</th>\n",
       "      <th></th>\n",
       "    </tr>\n",
       "  </thead>\n",
       "  <tbody>\n",
       "    <tr>\n",
       "      <th>krusty krab</th>\n",
       "      <td>3</td>\n",
       "    </tr>\n",
       "    <tr>\n",
       "      <th>self employed</th>\n",
       "      <td>1</td>\n",
       "    </tr>\n",
       "    <tr>\n",
       "      <th>the chum bucket</th>\n",
       "      <td>1</td>\n",
       "    </tr>\n",
       "    <tr>\n",
       "      <th>unemployed</th>\n",
       "      <td>1</td>\n",
       "    </tr>\n",
       "  </tbody>\n",
       "</table>\n",
       "</div>"
      ],
      "text/plain": [
       "                 count\n",
       "employer              \n",
       "krusty krab          3\n",
       "self employed        1\n",
       "the chum bucket      1\n",
       "unemployed           1"
      ]
     },
     "execution_count": 11,
     "metadata": {},
     "output_type": "execute_result"
    }
   ],
   "source": [
    "df_1[['employer','count']].groupby('employer').sum()"
   ]
  },
  {
   "cell_type": "markdown",
   "id": "04c9c185",
   "metadata": {},
   "source": [
    "## 2. List Comprehension"
   ]
  },
  {
   "cell_type": "markdown",
   "id": "760a2672",
   "metadata": {},
   "source": [
    "Here we will be using list comprehension to both generate our data set, as well as create a calculated field.\n",
    "\n",
    "In the following, we generate 100 instances of a random BMI value ranging from 20 to 35. "
   ]
  },
  {
   "cell_type": "code",
   "execution_count": 12,
   "id": "2611f3de",
   "metadata": {},
   "outputs": [
    {
     "data": {
      "text/html": [
       "<div>\n",
       "<style scoped>\n",
       "    .dataframe tbody tr th:only-of-type {\n",
       "        vertical-align: middle;\n",
       "    }\n",
       "\n",
       "    .dataframe tbody tr th {\n",
       "        vertical-align: top;\n",
       "    }\n",
       "\n",
       "    .dataframe thead th {\n",
       "        text-align: right;\n",
       "    }\n",
       "</style>\n",
       "<table border=\"1\" class=\"dataframe\">\n",
       "  <thead>\n",
       "    <tr style=\"text-align: right;\">\n",
       "      <th></th>\n",
       "      <th>bmi</th>\n",
       "    </tr>\n",
       "  </thead>\n",
       "  <tbody>\n",
       "    <tr>\n",
       "      <th>0</th>\n",
       "      <td>33</td>\n",
       "    </tr>\n",
       "    <tr>\n",
       "      <th>1</th>\n",
       "      <td>30</td>\n",
       "    </tr>\n",
       "    <tr>\n",
       "      <th>2</th>\n",
       "      <td>34</td>\n",
       "    </tr>\n",
       "  </tbody>\n",
       "</table>\n",
       "</div>"
      ],
      "text/plain": [
       "   bmi\n",
       "0   33\n",
       "1   30\n",
       "2   34"
      ]
     },
     "execution_count": 12,
     "metadata": {},
     "output_type": "execute_result"
    }
   ],
   "source": [
    "bmi = [rand.randint(20,35) for i in range(100)]\n",
    "bmi_df = pd.DataFrame(bmi)\n",
    "bmi_df.columns = ['bmi']\n",
    "bmi_df.head(3)"
   ]
  },
  {
   "cell_type": "markdown",
   "id": "58e95f4f",
   "metadata": {},
   "source": [
    "We then flag any bmi value less than or equal to 25 to be within the normal range, and bmi values higher than 25 are classified as overweight. "
   ]
  },
  {
   "cell_type": "code",
   "execution_count": 13,
   "id": "9b443ddd",
   "metadata": {},
   "outputs": [
    {
     "data": {
      "text/html": [
       "<div>\n",
       "<style scoped>\n",
       "    .dataframe tbody tr th:only-of-type {\n",
       "        vertical-align: middle;\n",
       "    }\n",
       "\n",
       "    .dataframe tbody tr th {\n",
       "        vertical-align: top;\n",
       "    }\n",
       "\n",
       "    .dataframe thead th {\n",
       "        text-align: right;\n",
       "    }\n",
       "</style>\n",
       "<table border=\"1\" class=\"dataframe\">\n",
       "  <thead>\n",
       "    <tr style=\"text-align: right;\">\n",
       "      <th></th>\n",
       "      <th>bmi</th>\n",
       "      <th>bmi_range</th>\n",
       "    </tr>\n",
       "  </thead>\n",
       "  <tbody>\n",
       "    <tr>\n",
       "      <th>0</th>\n",
       "      <td>33</td>\n",
       "      <td>overweight</td>\n",
       "    </tr>\n",
       "    <tr>\n",
       "      <th>1</th>\n",
       "      <td>30</td>\n",
       "      <td>overweight</td>\n",
       "    </tr>\n",
       "    <tr>\n",
       "      <th>2</th>\n",
       "      <td>34</td>\n",
       "      <td>overweight</td>\n",
       "    </tr>\n",
       "  </tbody>\n",
       "</table>\n",
       "</div>"
      ],
      "text/plain": [
       "   bmi   bmi_range\n",
       "0   33  overweight\n",
       "1   30  overweight\n",
       "2   34  overweight"
      ]
     },
     "execution_count": 13,
     "metadata": {},
     "output_type": "execute_result"
    }
   ],
   "source": [
    "bmi_df['bmi_range'] = ['normal range' if a<=25 else 'overweight' for a in bmi_df['bmi']]\n",
    "bmi_df.head(3)"
   ]
  },
  {
   "cell_type": "markdown",
   "id": "8ed3c258",
   "metadata": {},
   "source": [
    "Below is a summary of how many data points are classified as normal range vs overweight. "
   ]
  },
  {
   "cell_type": "code",
   "execution_count": 14,
   "id": "ef624c19",
   "metadata": {},
   "outputs": [
    {
     "data": {
      "text/html": [
       "<div>\n",
       "<style scoped>\n",
       "    .dataframe tbody tr th:only-of-type {\n",
       "        vertical-align: middle;\n",
       "    }\n",
       "\n",
       "    .dataframe tbody tr th {\n",
       "        vertical-align: top;\n",
       "    }\n",
       "\n",
       "    .dataframe thead th {\n",
       "        text-align: right;\n",
       "    }\n",
       "</style>\n",
       "<table border=\"1\" class=\"dataframe\">\n",
       "  <thead>\n",
       "    <tr style=\"text-align: right;\">\n",
       "      <th></th>\n",
       "      <th>bmi</th>\n",
       "    </tr>\n",
       "    <tr>\n",
       "      <th>bmi_range</th>\n",
       "      <th></th>\n",
       "    </tr>\n",
       "  </thead>\n",
       "  <tbody>\n",
       "    <tr>\n",
       "      <th>normal range</th>\n",
       "      <td>37</td>\n",
       "    </tr>\n",
       "    <tr>\n",
       "      <th>overweight</th>\n",
       "      <td>63</td>\n",
       "    </tr>\n",
       "  </tbody>\n",
       "</table>\n",
       "</div>"
      ],
      "text/plain": [
       "              bmi\n",
       "bmi_range        \n",
       "normal range   37\n",
       "overweight     63"
      ]
     },
     "execution_count": 14,
     "metadata": {},
     "output_type": "execute_result"
    }
   ],
   "source": [
    "bmi_df.groupby('bmi_range').count()"
   ]
  },
  {
   "cell_type": "markdown",
   "id": "7ca5c064",
   "metadata": {},
   "source": [
    "## 3. Using .loc function in Pandas "
   ]
  },
  {
   "cell_type": "markdown",
   "id": "6c860152",
   "metadata": {},
   "source": [
    "Next, we will create a calculated field using the .loc function in pandas. "
   ]
  },
  {
   "cell_type": "code",
   "execution_count": 26,
   "id": "d77da494",
   "metadata": {},
   "outputs": [
    {
     "data": {
      "text/html": [
       "<div>\n",
       "<style scoped>\n",
       "    .dataframe tbody tr th:only-of-type {\n",
       "        vertical-align: middle;\n",
       "    }\n",
       "\n",
       "    .dataframe tbody tr th {\n",
       "        vertical-align: top;\n",
       "    }\n",
       "\n",
       "    .dataframe thead th {\n",
       "        text-align: right;\n",
       "    }\n",
       "</style>\n",
       "<table border=\"1\" class=\"dataframe\">\n",
       "  <thead>\n",
       "    <tr style=\"text-align: right;\">\n",
       "      <th></th>\n",
       "      <th>age</th>\n",
       "    </tr>\n",
       "  </thead>\n",
       "  <tbody>\n",
       "    <tr>\n",
       "      <th>0</th>\n",
       "      <td>41</td>\n",
       "    </tr>\n",
       "    <tr>\n",
       "      <th>1</th>\n",
       "      <td>70</td>\n",
       "    </tr>\n",
       "    <tr>\n",
       "      <th>2</th>\n",
       "      <td>90</td>\n",
       "    </tr>\n",
       "  </tbody>\n",
       "</table>\n",
       "</div>"
      ],
      "text/plain": [
       "   age\n",
       "0   41\n",
       "1   70\n",
       "2   90"
      ]
     },
     "execution_count": 26,
     "metadata": {},
     "output_type": "execute_result"
    }
   ],
   "source": [
    "age = [rand.randint(1,95) for i in range(100)]\n",
    "age_df = pd.DataFrame(age)\n",
    "age_df.columns = ['age']\n",
    "age_df.head(3)"
   ]
  },
  {
   "cell_type": "markdown",
   "id": "c06f2d58",
   "metadata": {},
   "source": [
    ".loc is an easy way for us to create a calculated field with multiple categories. For example: here we want to classify age into five different categories. "
   ]
  },
  {
   "cell_type": "code",
   "execution_count": 32,
   "id": "6cabc549",
   "metadata": {},
   "outputs": [
    {
     "name": "stderr",
     "output_type": "stream",
     "text": [
      "/var/folders/lr/q19g4szs70j9_jb4plblj5x00000gn/T/ipykernel_5534/4085896801.py:1: FutureWarning: Setting an item of incompatible dtype is deprecated and will raise in a future error of pandas. Value '0-20' has dtype incompatible with float64, please explicitly cast to a compatible dtype first.\n",
      "  age_df.loc[age_df['age'].astype(float) <= 20, 'age_group'] = '0-20'\n"
     ]
    }
   ],
   "source": [
    "age_df.loc[age_df['age'].astype(float) <= 20, 'age_group'] = '0-20'\n",
    "age_df.loc[age_df['age'].astype(float).between(21,40) , 'age_group'] = '21-40'\n",
    "age_df.loc[age_df['age'].astype(float).between(41,60) , 'age_group'] = '41-60'\n",
    "age_df.loc[age_df['age'].astype(float).between(61,80) , 'age_group'] = '61-80'\n",
    "age_df.loc[age_df['age'].astype(float).between(81,1000) , 'age_group'] = '81-95'"
   ]
  },
  {
   "cell_type": "code",
   "execution_count": 33,
   "id": "1b3a892c",
   "metadata": {},
   "outputs": [],
   "source": [
    "age_df['count']=1"
   ]
  },
  {
   "cell_type": "code",
   "execution_count": 34,
   "id": "b11cdf36",
   "metadata": {},
   "outputs": [
    {
     "data": {
      "text/html": [
       "<div>\n",
       "<style scoped>\n",
       "    .dataframe tbody tr th:only-of-type {\n",
       "        vertical-align: middle;\n",
       "    }\n",
       "\n",
       "    .dataframe tbody tr th {\n",
       "        vertical-align: top;\n",
       "    }\n",
       "\n",
       "    .dataframe thead th {\n",
       "        text-align: right;\n",
       "    }\n",
       "</style>\n",
       "<table border=\"1\" class=\"dataframe\">\n",
       "  <thead>\n",
       "    <tr style=\"text-align: right;\">\n",
       "      <th></th>\n",
       "      <th>age</th>\n",
       "      <th>count</th>\n",
       "      <th>age_group</th>\n",
       "    </tr>\n",
       "  </thead>\n",
       "  <tbody>\n",
       "    <tr>\n",
       "      <th>0</th>\n",
       "      <td>41</td>\n",
       "      <td>1</td>\n",
       "      <td>41-60</td>\n",
       "    </tr>\n",
       "    <tr>\n",
       "      <th>1</th>\n",
       "      <td>70</td>\n",
       "      <td>1</td>\n",
       "      <td>61-80</td>\n",
       "    </tr>\n",
       "    <tr>\n",
       "      <th>2</th>\n",
       "      <td>90</td>\n",
       "      <td>1</td>\n",
       "      <td>81-95</td>\n",
       "    </tr>\n",
       "  </tbody>\n",
       "</table>\n",
       "</div>"
      ],
      "text/plain": [
       "   age  count age_group\n",
       "0   41      1     41-60\n",
       "1   70      1     61-80\n",
       "2   90      1     81-95"
      ]
     },
     "execution_count": 34,
     "metadata": {},
     "output_type": "execute_result"
    }
   ],
   "source": [
    "age_df.head(3)"
   ]
  },
  {
   "cell_type": "markdown",
   "id": "e19976a7",
   "metadata": {},
   "source": [
    "The following is the summary of count per age group. "
   ]
  },
  {
   "cell_type": "code",
   "execution_count": 35,
   "id": "33f33e65",
   "metadata": {},
   "outputs": [
    {
     "data": {
      "text/html": [
       "<div>\n",
       "<style scoped>\n",
       "    .dataframe tbody tr th:only-of-type {\n",
       "        vertical-align: middle;\n",
       "    }\n",
       "\n",
       "    .dataframe tbody tr th {\n",
       "        vertical-align: top;\n",
       "    }\n",
       "\n",
       "    .dataframe thead th {\n",
       "        text-align: right;\n",
       "    }\n",
       "</style>\n",
       "<table border=\"1\" class=\"dataframe\">\n",
       "  <thead>\n",
       "    <tr style=\"text-align: right;\">\n",
       "      <th></th>\n",
       "      <th>count</th>\n",
       "    </tr>\n",
       "    <tr>\n",
       "      <th>age_group</th>\n",
       "      <th></th>\n",
       "    </tr>\n",
       "  </thead>\n",
       "  <tbody>\n",
       "    <tr>\n",
       "      <th>0-20</th>\n",
       "      <td>17</td>\n",
       "    </tr>\n",
       "    <tr>\n",
       "      <th>21-40</th>\n",
       "      <td>27</td>\n",
       "    </tr>\n",
       "    <tr>\n",
       "      <th>41-60</th>\n",
       "      <td>18</td>\n",
       "    </tr>\n",
       "    <tr>\n",
       "      <th>61-80</th>\n",
       "      <td>18</td>\n",
       "    </tr>\n",
       "    <tr>\n",
       "      <th>81-95</th>\n",
       "      <td>20</td>\n",
       "    </tr>\n",
       "  </tbody>\n",
       "</table>\n",
       "</div>"
      ],
      "text/plain": [
       "           count\n",
       "age_group       \n",
       "0-20          17\n",
       "21-40         27\n",
       "41-60         18\n",
       "61-80         18\n",
       "81-95         20"
      ]
     },
     "execution_count": 35,
     "metadata": {},
     "output_type": "execute_result"
    }
   ],
   "source": [
    "age_df[['age_group','count']].groupby('age_group').sum()"
   ]
  },
  {
   "cell_type": "markdown",
   "id": "7e6bcff7",
   "metadata": {},
   "source": [
    "## 4. NumPy .where statement"
   ]
  },
  {
   "cell_type": "markdown",
   "id": "79a838cd",
   "metadata": {},
   "source": [
    "Another way of created a new field in a pandas data frame is using numpy's selection function. \n",
    "\n",
    "The following data displays the salary, bonus, and employee rating for each employee indicated by the employee_name."
   ]
  },
  {
   "cell_type": "code",
   "execution_count": 4,
   "id": "3284d238",
   "metadata": {},
   "outputs": [
    {
     "data": {
      "text/html": [
       "<div>\n",
       "<style scoped>\n",
       "    .dataframe tbody tr th:only-of-type {\n",
       "        vertical-align: middle;\n",
       "    }\n",
       "\n",
       "    .dataframe tbody tr th {\n",
       "        vertical-align: top;\n",
       "    }\n",
       "\n",
       "    .dataframe thead th {\n",
       "        text-align: right;\n",
       "    }\n",
       "</style>\n",
       "<table border=\"1\" class=\"dataframe\">\n",
       "  <thead>\n",
       "    <tr style=\"text-align: right;\">\n",
       "      <th></th>\n",
       "      <th>employee_name</th>\n",
       "      <th>salary</th>\n",
       "      <th>bonus</th>\n",
       "      <th>employee_rating</th>\n",
       "    </tr>\n",
       "  </thead>\n",
       "  <tbody>\n",
       "    <tr>\n",
       "      <th>0</th>\n",
       "      <td>spongebob</td>\n",
       "      <td>30000</td>\n",
       "      <td>5000</td>\n",
       "      <td>10</td>\n",
       "    </tr>\n",
       "    <tr>\n",
       "      <th>1</th>\n",
       "      <td>patrick</td>\n",
       "      <td>0</td>\n",
       "      <td>0</td>\n",
       "      <td>0</td>\n",
       "    </tr>\n",
       "    <tr>\n",
       "      <th>2</th>\n",
       "      <td>squidward</td>\n",
       "      <td>40000</td>\n",
       "      <td>2500</td>\n",
       "      <td>4</td>\n",
       "    </tr>\n",
       "    <tr>\n",
       "      <th>3</th>\n",
       "      <td>mr krabs</td>\n",
       "      <td>100000</td>\n",
       "      <td>10000</td>\n",
       "      <td>8</td>\n",
       "    </tr>\n",
       "    <tr>\n",
       "      <th>4</th>\n",
       "      <td>sandy</td>\n",
       "      <td>70000</td>\n",
       "      <td>8500</td>\n",
       "      <td>9</td>\n",
       "    </tr>\n",
       "    <tr>\n",
       "      <th>5</th>\n",
       "      <td>plankton</td>\n",
       "      <td>80000</td>\n",
       "      <td>10000</td>\n",
       "      <td>7</td>\n",
       "    </tr>\n",
       "  </tbody>\n",
       "</table>\n",
       "</div>"
      ],
      "text/plain": [
       "  employee_name  salary  bonus  employee_rating\n",
       "0     spongebob   30000   5000               10\n",
       "1       patrick       0      0                0\n",
       "2     squidward   40000   2500                4\n",
       "3      mr krabs  100000  10000                8\n",
       "4         sandy   70000   8500                9\n",
       "5      plankton   80000  10000                7"
      ]
     },
     "execution_count": 4,
     "metadata": {},
     "output_type": "execute_result"
    }
   ],
   "source": [
    "df_dict = {'employee_name': ['spongebob', 'patrick', 'squidward', 'mr krabs', 'sandy', 'plankton'],\n",
    "        'salary': [30000, 0, 40000, 100000, 70000, 80000],\n",
    "        'bonus': [5000, 0, 2500, 10000, 8500, 10000],\n",
    "        'employee_rating': [10, 0, 4, 8, 9, 7]\n",
    "       }\n",
    "\n",
    "df_2 = pd.DataFrame(df_dict)\n",
    "df_2"
   ]
  },
  {
   "cell_type": "markdown",
   "id": "d1638a9d",
   "metadata": {},
   "source": [
    "We want to add a bonus to each employee's annual salary, for employees with an employee rating of 7 or higher. Using np.where, we assign the salary + bonus as the total_salary for when the condition is true, and only the base salary for when the condition is false. "
   ]
  },
  {
   "cell_type": "code",
   "execution_count": 6,
   "id": "bfd88118",
   "metadata": {},
   "outputs": [],
   "source": [
    "df_2['total_salary'] = np.where(df_2['employee_rating'] >= 7, df_2['salary'] + df_2['bonus'], df_2['salary'])"
   ]
  },
  {
   "cell_type": "code",
   "execution_count": 7,
   "id": "7eecefaa",
   "metadata": {},
   "outputs": [
    {
     "data": {
      "text/html": [
       "<div>\n",
       "<style scoped>\n",
       "    .dataframe tbody tr th:only-of-type {\n",
       "        vertical-align: middle;\n",
       "    }\n",
       "\n",
       "    .dataframe tbody tr th {\n",
       "        vertical-align: top;\n",
       "    }\n",
       "\n",
       "    .dataframe thead th {\n",
       "        text-align: right;\n",
       "    }\n",
       "</style>\n",
       "<table border=\"1\" class=\"dataframe\">\n",
       "  <thead>\n",
       "    <tr style=\"text-align: right;\">\n",
       "      <th></th>\n",
       "      <th>employee_name</th>\n",
       "      <th>salary</th>\n",
       "      <th>bonus</th>\n",
       "      <th>employee_rating</th>\n",
       "      <th>total_salary</th>\n",
       "    </tr>\n",
       "  </thead>\n",
       "  <tbody>\n",
       "    <tr>\n",
       "      <th>0</th>\n",
       "      <td>spongebob</td>\n",
       "      <td>30000</td>\n",
       "      <td>5000</td>\n",
       "      <td>10</td>\n",
       "      <td>35000</td>\n",
       "    </tr>\n",
       "    <tr>\n",
       "      <th>1</th>\n",
       "      <td>patrick</td>\n",
       "      <td>0</td>\n",
       "      <td>0</td>\n",
       "      <td>0</td>\n",
       "      <td>0</td>\n",
       "    </tr>\n",
       "    <tr>\n",
       "      <th>2</th>\n",
       "      <td>squidward</td>\n",
       "      <td>40000</td>\n",
       "      <td>2500</td>\n",
       "      <td>4</td>\n",
       "      <td>40000</td>\n",
       "    </tr>\n",
       "    <tr>\n",
       "      <th>3</th>\n",
       "      <td>mr krabs</td>\n",
       "      <td>100000</td>\n",
       "      <td>10000</td>\n",
       "      <td>8</td>\n",
       "      <td>110000</td>\n",
       "    </tr>\n",
       "    <tr>\n",
       "      <th>4</th>\n",
       "      <td>sandy</td>\n",
       "      <td>70000</td>\n",
       "      <td>8500</td>\n",
       "      <td>9</td>\n",
       "      <td>78500</td>\n",
       "    </tr>\n",
       "    <tr>\n",
       "      <th>5</th>\n",
       "      <td>plankton</td>\n",
       "      <td>80000</td>\n",
       "      <td>10000</td>\n",
       "      <td>7</td>\n",
       "      <td>90000</td>\n",
       "    </tr>\n",
       "  </tbody>\n",
       "</table>\n",
       "</div>"
      ],
      "text/plain": [
       "  employee_name  salary  bonus  employee_rating  total_salary\n",
       "0     spongebob   30000   5000               10         35000\n",
       "1       patrick       0      0                0             0\n",
       "2     squidward   40000   2500                4         40000\n",
       "3      mr krabs  100000  10000                8        110000\n",
       "4         sandy   70000   8500                9         78500\n",
       "5      plankton   80000  10000                7         90000"
      ]
     },
     "execution_count": 7,
     "metadata": {},
     "output_type": "execute_result"
    }
   ],
   "source": [
    "df_2"
   ]
  },
  {
   "cell_type": "markdown",
   "id": "7aebd845",
   "metadata": {},
   "source": [
    "## 5. Applying a custom function"
   ]
  },
  {
   "cell_type": "markdown",
   "id": "49b7d28b",
   "metadata": {},
   "source": [
    "Now we will do data cleaning, and formatting by writing a function. First, I create a function that will generate a bunch of random phone numbers in different formats. "
   ]
  },
  {
   "cell_type": "code",
   "execution_count": 42,
   "id": "cbd49ae0",
   "metadata": {},
   "outputs": [],
   "source": [
    "area_codes = [415, 408, 510, 650]\n",
    "\n",
    "def messy_num_generator(area_code_list):\n",
    "    \n",
    "    area_code = str(rand.choice(area_code_list))\n",
    "    \n",
    "    rand_num = rand.random() \n",
    "    if rand_num < 0.25: \n",
    "        # format: (###)###-####\n",
    "        num_1 = str(rand.randint(100, 999))\n",
    "        num_2 = str(rand.randint(1000, 9999))\n",
    "        num_str = '(' + area_code + ')' + num_1 + '-' + num_2\n",
    "    \n",
    "    elif rand_num >= 0.25 and rand_num <0.5: \n",
    "        #format: ##########\n",
    "        num_1 = str(rand.randint(100, 999))\n",
    "        num_2 = str(rand.randint(1000, 9999))\n",
    "        num_str = area_code + num_1 + num_2\n",
    "        \n",
    "    elif rand_num >= 0.5 and rand_num <0.75:     \n",
    "        #format: ###-###-####\n",
    "        num_1 = str(rand.randint(100, 999))\n",
    "        num_2 = str(rand.randint(1000, 9999))\n",
    "        num_str = area_code + '-' + num_1 + '-' + num_2\n",
    "\n",
    "    else:\n",
    "        #format: ### ### ####\n",
    "        num_1 = str(rand.randint(100, 999))\n",
    "        num_2 = str(rand.randint(1000, 9999))\n",
    "        num_str = area_code + ' ' + num_1 + ' ' + num_2\n",
    "    \n",
    "    return num_str\n",
    "    "
   ]
  },
  {
   "cell_type": "code",
   "execution_count": 48,
   "id": "2b94a798",
   "metadata": {},
   "outputs": [
    {
     "data": {
      "text/html": [
       "<div>\n",
       "<style scoped>\n",
       "    .dataframe tbody tr th:only-of-type {\n",
       "        vertical-align: middle;\n",
       "    }\n",
       "\n",
       "    .dataframe tbody tr th {\n",
       "        vertical-align: top;\n",
       "    }\n",
       "\n",
       "    .dataframe thead th {\n",
       "        text-align: right;\n",
       "    }\n",
       "</style>\n",
       "<table border=\"1\" class=\"dataframe\">\n",
       "  <thead>\n",
       "    <tr style=\"text-align: right;\">\n",
       "      <th></th>\n",
       "      <th>messy_num</th>\n",
       "    </tr>\n",
       "  </thead>\n",
       "  <tbody>\n",
       "    <tr>\n",
       "      <th>0</th>\n",
       "      <td>6507966513</td>\n",
       "    </tr>\n",
       "    <tr>\n",
       "      <th>1</th>\n",
       "      <td>5108971505</td>\n",
       "    </tr>\n",
       "    <tr>\n",
       "      <th>2</th>\n",
       "      <td>(408)523-4240</td>\n",
       "    </tr>\n",
       "    <tr>\n",
       "      <th>3</th>\n",
       "      <td>510 952 7675</td>\n",
       "    </tr>\n",
       "    <tr>\n",
       "      <th>4</th>\n",
       "      <td>6502611045</td>\n",
       "    </tr>\n",
       "    <tr>\n",
       "      <th>...</th>\n",
       "      <td>...</td>\n",
       "    </tr>\n",
       "    <tr>\n",
       "      <th>95</th>\n",
       "      <td>(408)503-5373</td>\n",
       "    </tr>\n",
       "    <tr>\n",
       "      <th>96</th>\n",
       "      <td>4087654199</td>\n",
       "    </tr>\n",
       "    <tr>\n",
       "      <th>97</th>\n",
       "      <td>510-519-2848</td>\n",
       "    </tr>\n",
       "    <tr>\n",
       "      <th>98</th>\n",
       "      <td>5108911027</td>\n",
       "    </tr>\n",
       "    <tr>\n",
       "      <th>99</th>\n",
       "      <td>(650)811-9678</td>\n",
       "    </tr>\n",
       "  </tbody>\n",
       "</table>\n",
       "<p>100 rows × 1 columns</p>\n",
       "</div>"
      ],
      "text/plain": [
       "        messy_num\n",
       "0      6507966513\n",
       "1      5108971505\n",
       "2   (408)523-4240\n",
       "3    510 952 7675\n",
       "4      6502611045\n",
       "..            ...\n",
       "95  (408)503-5373\n",
       "96     4087654199\n",
       "97   510-519-2848\n",
       "98     5108911027\n",
       "99  (650)811-9678\n",
       "\n",
       "[100 rows x 1 columns]"
      ]
     },
     "execution_count": 48,
     "metadata": {},
     "output_type": "execute_result"
    }
   ],
   "source": [
    "messy_numbers = [messy_num_generator(area_codes) for i in range(100)]\n",
    "messy_numbers_df = pd.DataFrame(messy_numbers)\n",
    "messy_numbers_df.columns = ['messy_num']\n",
    "messy_numbers_df"
   ]
  },
  {
   "cell_type": "code",
   "execution_count": 55,
   "id": "0b41f401",
   "metadata": {},
   "outputs": [],
   "source": [
    "def get_raw_number(phone_number):\n",
    "    return ''.join(d for d in phone_number if d.isdigit())"
   ]
  },
  {
   "cell_type": "code",
   "execution_count": 56,
   "id": "2d5c8d08",
   "metadata": {},
   "outputs": [],
   "source": [
    "messy_numbers_df['raw_num'] = messy_numbers_df['messy_num'].apply(get_raw_number)"
   ]
  },
  {
   "cell_type": "code",
   "execution_count": 57,
   "id": "73f69e74",
   "metadata": {},
   "outputs": [
    {
     "data": {
      "text/html": [
       "<div>\n",
       "<style scoped>\n",
       "    .dataframe tbody tr th:only-of-type {\n",
       "        vertical-align: middle;\n",
       "    }\n",
       "\n",
       "    .dataframe tbody tr th {\n",
       "        vertical-align: top;\n",
       "    }\n",
       "\n",
       "    .dataframe thead th {\n",
       "        text-align: right;\n",
       "    }\n",
       "</style>\n",
       "<table border=\"1\" class=\"dataframe\">\n",
       "  <thead>\n",
       "    <tr style=\"text-align: right;\">\n",
       "      <th></th>\n",
       "      <th>messy_num</th>\n",
       "      <th>raw_num</th>\n",
       "    </tr>\n",
       "  </thead>\n",
       "  <tbody>\n",
       "    <tr>\n",
       "      <th>0</th>\n",
       "      <td>6507966513</td>\n",
       "      <td>6507966513</td>\n",
       "    </tr>\n",
       "    <tr>\n",
       "      <th>1</th>\n",
       "      <td>5108971505</td>\n",
       "      <td>5108971505</td>\n",
       "    </tr>\n",
       "    <tr>\n",
       "      <th>2</th>\n",
       "      <td>(408)523-4240</td>\n",
       "      <td>4085234240</td>\n",
       "    </tr>\n",
       "    <tr>\n",
       "      <th>3</th>\n",
       "      <td>510 952 7675</td>\n",
       "      <td>5109527675</td>\n",
       "    </tr>\n",
       "    <tr>\n",
       "      <th>4</th>\n",
       "      <td>6502611045</td>\n",
       "      <td>6502611045</td>\n",
       "    </tr>\n",
       "    <tr>\n",
       "      <th>...</th>\n",
       "      <td>...</td>\n",
       "      <td>...</td>\n",
       "    </tr>\n",
       "    <tr>\n",
       "      <th>95</th>\n",
       "      <td>(408)503-5373</td>\n",
       "      <td>4085035373</td>\n",
       "    </tr>\n",
       "    <tr>\n",
       "      <th>96</th>\n",
       "      <td>4087654199</td>\n",
       "      <td>4087654199</td>\n",
       "    </tr>\n",
       "    <tr>\n",
       "      <th>97</th>\n",
       "      <td>510-519-2848</td>\n",
       "      <td>5105192848</td>\n",
       "    </tr>\n",
       "    <tr>\n",
       "      <th>98</th>\n",
       "      <td>5108911027</td>\n",
       "      <td>5108911027</td>\n",
       "    </tr>\n",
       "    <tr>\n",
       "      <th>99</th>\n",
       "      <td>(650)811-9678</td>\n",
       "      <td>6508119678</td>\n",
       "    </tr>\n",
       "  </tbody>\n",
       "</table>\n",
       "<p>100 rows × 2 columns</p>\n",
       "</div>"
      ],
      "text/plain": [
       "        messy_num     raw_num\n",
       "0      6507966513  6507966513\n",
       "1      5108971505  5108971505\n",
       "2   (408)523-4240  4085234240\n",
       "3    510 952 7675  5109527675\n",
       "4      6502611045  6502611045\n",
       "..            ...         ...\n",
       "95  (408)503-5373  4085035373\n",
       "96     4087654199  4087654199\n",
       "97   510-519-2848  5105192848\n",
       "98     5108911027  5108911027\n",
       "99  (650)811-9678  6508119678\n",
       "\n",
       "[100 rows x 2 columns]"
      ]
     },
     "execution_count": 57,
     "metadata": {},
     "output_type": "execute_result"
    }
   ],
   "source": [
    "messy_numbers_df"
   ]
  }
 ],
 "metadata": {
  "kernelspec": {
   "display_name": "Python 3 (ipykernel)",
   "language": "python",
   "name": "python3"
  },
  "language_info": {
   "codemirror_mode": {
    "name": "ipython",
    "version": 3
   },
   "file_extension": ".py",
   "mimetype": "text/x-python",
   "name": "python",
   "nbconvert_exporter": "python",
   "pygments_lexer": "ipython3",
   "version": "3.11.5"
  }
 },
 "nbformat": 4,
 "nbformat_minor": 5
}
